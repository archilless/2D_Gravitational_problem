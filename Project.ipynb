{
 "cells": [
  {
   "cell_type": "code",
   "execution_count": 1,
   "metadata": {},
   "outputs": [],
   "source": [
    "import numpy as np\n",
    "import matplotlib.pyplot as plt"
   ]
  },
  {
   "cell_type": "code",
   "execution_count": 2,
   "metadata": {},
   "outputs": [
    {
     "name": "stdout",
     "output_type": "stream",
     "text": [
      "Coordinates of all points:\n",
      " [[25.19181068 79.58488079]\n",
      " [74.89891266 88.88579393]\n",
      " [13.7962175  61.48432968]\n",
      " [57.57256388 26.38005892]\n",
      " [10.59690271 27.76780166]\n",
      " [14.36152341 56.92236208]\n",
      " [58.49053071 43.71656633]\n",
      " [35.48268163 52.0633141 ]\n",
      " [ 2.88413852 20.29710205]\n",
      " [10.10139776 18.99599582]] \n",
      "\n",
      "Velocities of all points:\n",
      " [[0.44833099 0.50302356]\n",
      " [0.65676969 0.24449639]\n",
      " [0.66182512 0.86944348]\n",
      " [0.00424355 0.52935465]\n",
      " [0.96017591 0.23140367]\n",
      " [0.65141772 0.35098661]\n",
      " [0.67263698 0.9836259 ]\n",
      " [0.79505151 0.40086685]\n",
      " [0.82653923 0.55031146]\n",
      " [0.96694644 0.72793306]]\n"
     ]
    }
   ],
   "source": [
    "epsilon = 0.0001\n",
    "alpha = 2\n",
    "A = 200\n",
    "B = 10\n",
    "N = 10\n",
    "scale = 100\n",
    "h = 0.01 #step\n",
    "\n",
    "all_points = [np.asarray([np.random.rand()*scale, np.random.rand()*scale, np.random.rand(), np.random.rand()]) \\\n",
    "                                                                                  for _ in np.arange(N) ]\n",
    "\n",
    "old_coordinates_of_all_points = coordinates_of_all_points = np.random.rand(N, 2)*scale\n",
    "old_velocities_of_all_points = velocities_of_all_points = np.random.rand(N, 2)\n",
    "print(\"Coordinates of all points:\\n\", coordinates_of_all_points, \\\n",
    "      \"\\n\\nVelocities of all points:\\n\", velocities_of_all_points)\n"
   ]
  },
  {
   "cell_type": "code",
   "execution_count": 3,
   "metadata": {},
   "outputs": [],
   "source": [
    "# def new_coordinates()"
   ]
  },
  {
   "cell_type": "code",
   "execution_count": 4,
   "metadata": {},
   "outputs": [],
   "source": [
    "def force_of_interaction(velocity1, point_ID1, point_ID2, delta_time):\n",
    "    old_coord_diff = coordinates_of_all_points[point_ID2]- coordinates_of_all_points[point_ID1]\n",
    "    old_velocity_diff = velocities_of_all_points[point_ID2]- velocity1\n",
    "    new_coord_diff = old_velocity_diff * delta_time + old_coord_diff\n",
    "    return new_coord_diff/np.power(np.linalg.norm(new_coord_diff), alpha)"
   ]
  },
  {
   "cell_type": "code",
   "execution_count": 5,
   "metadata": {},
   "outputs": [],
   "source": [
    "def find_acceleration(point_ID, delta_velocity, delta_time):\n",
    "    velocity = velocities_of_all_points[point_ID] + delta_velocity\n",
    "    return (   A-B*np.power(np.linalg.norm(velocity), 2)   )*velocity+\\\n",
    "            np.sum([force_of_interaction(velocity, point_ID, body_ID, delta_time) if body_ID != point_ID else [0, 0] for body_ID in np.arange(N)], axis = 0)"
   ]
  },
  {
   "cell_type": "code",
   "execution_count": 6,
   "metadata": {},
   "outputs": [],
   "source": [
    "def k_1_computation(point_ID):\n",
    "    return h*find_acceleration(point_ID, 0, 0)"
   ]
  },
  {
   "cell_type": "code",
   "execution_count": 7,
   "metadata": {},
   "outputs": [],
   "source": [
    "def k_2_computation(point_ID):\n",
    "    return h*find_acceleration(point_ID, k_1_computation(point_ID), h)"
   ]
  },
  {
   "cell_type": "code",
   "execution_count": 8,
   "metadata": {},
   "outputs": [],
   "source": [
    "def update_velocity(point_ID):\n",
    "    return velocities_of_all_points[point_ID] + (k_1_computation(point_ID) + k_2_computation(point_ID))/2"
   ]
  },
  {
   "cell_type": "code",
   "execution_count": 9,
   "metadata": {},
   "outputs": [],
   "source": [
    "velocities_of_all_points = np.asarray([update_velocity(point_ID) for point_ID in np.arange(N)])\n",
    "coordinates_of_all_points += velocities_of_all_points * h"
   ]
  },
  {
   "cell_type": "code",
   "execution_count": 10,
   "metadata": {},
   "outputs": [
    {
     "data": {
      "text/plain": [
       "(10, 2)"
      ]
     },
     "execution_count": 10,
     "metadata": {},
     "output_type": "execute_result"
    }
   ],
   "source": [
    "a = np.array([[0, 1, 2, 3],[4, 5, 6, 7]])\n",
    "np.asarray(velocities_of_all_points).shape"
   ]
  },
  {
   "cell_type": "code",
   "execution_count": 11,
   "metadata": {},
   "outputs": [
    {
     "name": "stdout",
     "output_type": "stream",
     "text": [
      "Coordinates of all points:\n",
      " [[25.21129983 79.60671551]\n",
      " [74.92711122 88.89628227]\n",
      " [13.81870747 61.51380762]\n",
      " [57.57273806 26.40437764]\n",
      " [10.63205753 27.77626358]\n",
      " [14.38900977 56.93719109]\n",
      " [58.51156769 43.74735614]\n",
      " [35.51362844 52.07892071]\n",
      " [ 2.91431323 20.31718439]\n",
      " [10.13114719 19.01843187]] \n",
      "\n",
      "Velocities of all points:\n",
      " [[1.94891577 2.18347167]\n",
      " [2.81985574 1.04883474]\n",
      " [2.24899611 2.94779388]\n",
      " [0.01741864 2.43187121]\n",
      " [3.51548292 0.84619202]\n",
      " [2.74863674 1.48290086]\n",
      " [2.10369805 3.07898162]\n",
      " [3.09468103 1.56066045]\n",
      " [3.0174703  2.00823369]\n",
      " [2.97494338 2.24360471]]\n"
     ]
    }
   ],
   "source": [
    "print(\"Coordinates of all points:\\n\", coordinates_of_all_points, \\\n",
    "      \"\\n\\nVelocities of all points:\\n\", velocities_of_all_points)\n"
   ]
  },
  {
   "cell_type": "code",
   "execution_count": 39,
   "metadata": {},
   "outputs": [
    {
     "data": {
      "image/png": "[encoded data removed]",
      "text/plain": [
       "<Figure size 432x288 with 1 Axes>"
      ]
     },
     "metadata": {
      "needs_background": "light"
     },
     "output_type": "display_data"
    }
   ],
   "source": [
    "plt.plot(coordinates_of_all_points[:,0], coordinates_of_all_points[:,1], \",\")\n",
    "for i in range(N):\n",
    "    plt.arrow(coordinates_of_all_points[i,0], coordinates_of_all_points[i,1], velocities_of_all_points[i,0], velocities_of_all_points[i,1], shape='full', lw=0.5, length_includes_head=True, head_width=1)\n",
    "plt.show()"
   ]
  }
 ],
 "metadata": {
  "anaconda-cloud": {},
  "celltoolbar": "Raw Cell Format",
  "kernelspec": {
   "display_name": "Python 3",
   "language": "python",
   "name": "python3"
  },
  "language_info": {
   "codemirror_mode": {
    "name": "ipython",
    "version": 3
   },
   "file_extension": ".py",
   "mimetype": "text/x-python",
   "name": "python",
   "nbconvert_exporter": "python",
   "pygments_lexer": "ipython3",
   "version": "3.7.0"
  }
 },
 "nbformat": 4,
 "nbformat_minor": 1
}
