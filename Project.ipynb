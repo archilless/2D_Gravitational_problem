{
 "cells": [
  {
   "cell_type": "code",
   "execution_count": 8,
   "metadata": {},
   "outputs": [],
   "source": [
    "import numpy as np\n",
    "import matplotlib.pyplot as plt"
   ]
  },
  {
   "cell_type": "code",
   "execution_count": null,
   "metadata": {},
   "outputs": [],
   "source": [
    "np.array()"
   ]
  },
  {
   "cell_type": "code",
   "execution_count": 115,
   "metadata": {},
   "outputs": [
    {
     "name": "stdout",
     "output_type": "stream",
     "text": [
      "Coordinates of all points:\n",
      " [[27.00528897 67.46959521]\n",
      " [37.24908193 53.86351777]\n",
      " [ 0.84192297 37.02107593]\n",
      " [41.18171432 50.9329602 ]\n",
      " [23.71210319 98.63004266]\n",
      " [99.70056494 22.44305104]\n",
      " [21.15478901 71.43128987]\n",
      " [89.22514385  7.9473561 ]\n",
      " [63.54456342  4.59498031]\n",
      " [13.9391183  53.88489401]] \n",
      "\n",
      "Velocities of all points:\n",
      " [[0.76493695 0.65577154]\n",
      " [0.14322331 0.49605297]\n",
      " [0.01059243 0.04142107]\n",
      " [0.80841828 0.77181023]\n",
      " [0.91541322 0.48767926]\n",
      " [0.28643618 0.74484185]\n",
      " [0.50802123 0.65244828]\n",
      " [0.73350707 0.46444812]\n",
      " [0.16021432 0.6954799 ]\n",
      " [0.08659846 0.91920076]]\n"
     ]
    }
   ],
   "source": [
    "epsilon = 0.0001\n",
    "alpha = 2\n",
    "A = 200\n",
    "B = 10\n",
    "N = 10\n",
    "scale = 100\n",
    "h = 0.01 #step\n",
    "\n",
    "all_points = [np.asarray([np.random.rand()*scale, np.random.rand()*scale, np.random.rand(), np.random.rand()]) \\\n",
    "                                                                                  for _ in np.arange(N) ]\n",
    "\n",
    "coordinates_of_all_points = np.random.rand(N, 2)*scale\n",
    "velocities_of_all_points = np.random.rand(N, 2)\n",
    "print(\"Coordinates of all points:\\n\", coordinates_of_all_points, \\\n",
    "      \"\\n\\nVelocities of all points:\\n\", velocities_of_all_points)\n"
   ]
  },
  {
   "cell_type": "code",
   "execution_count": null,
   "metadata": {},
   "outputs": [],
   "source": [
    "def new_coordinates()"
   ]
  },
  {
   "cell_type": "code",
   "execution_count": 61,
   "metadata": {},
   "outputs": [],
   "source": [
    "def force_of_interaction(point_ID1, point_ID2, delta_time):\n",
    "    old_coord_diff = coordinates_of_all_points[point_ID2]- coordinates_of_all_points[point_ID1]\n",
    "    old_velocity_diff = velocities_of_all_points[point_ID2]- velocities_of_all_points[point_ID1]\n",
    "    new_coord_diff = old_velocity_diff * delta_time + old_coord_diff\n",
    "    return new_coord_diff/np.power(np.linalg.norm(new_coord_diff), alpha)"
   ]
  },
  {
   "cell_type": "code",
   "execution_count": 62,
   "metadata": {},
   "outputs": [],
   "source": [
    "def find_acceleration(point_ID, delta_velocity, delta_time):\n",
    "    velocity = velocities_of_all_points[point_ID] + delta_velocity\n",
    "    \n",
    "    old_coord_diff = coordinates_of_all_points[point_ID2]- coordinates_of_all_points[point_ID1]\n",
    "    old_velocity_diff = velocities_of_all_points[point_ID2]- velocities_of_all_points[point_ID1]\n",
    "    coordinates = old_velocity_diff * delta_time + old_coord_diff\n",
    "    return (   A-B*np.power(np.linalg.norm(velocity), 2)   )*velocity+\\\n",
    "                np.sum([force_of_interaction(point_ID, body_ID, delta_time) if all(body_ID != point_ID) else [0, 0] for body_ID in np.arange(N)], axis = 0)"
   ]
  },
  {
   "cell_type": "code",
   "execution_count": 63,
   "metadata": {},
   "outputs": [],
   "source": [
    "def k_1_computation(point_ID):\n",
    "    return h*find_acceleration(point_ID, 0)"
   ]
  },
  {
   "cell_type": "code",
   "execution_count": 79,
   "metadata": {},
   "outputs": [],
   "source": [
    "def k_2_computation(point_ID):\n",
    "    return h*find_acceleration(point+np.asarray([k_1_computation(point_ID), point[2:4]]).reshape(-1), h)"
   ]
  },
  {
   "cell_type": "code",
   "execution_count": 65,
   "metadata": {},
   "outputs": [],
   "source": [
    "def new_velocity(point):\n",
    "    return point[0:2] + (k_1_computation(point) + k_2_computation(point))/2"
   ]
  },
  {
   "cell_type": "code",
   "execution_count": 109,
   "metadata": {},
   "outputs": [],
   "source": [
    "err = []\n",
    "vels = [new_velocity(point) for point in all_points]\n",
    "all_points = [np.asarray([velocity, point[2:4]]).reshape(-1) for (velocity, point) in zip(vels, all_points)]\n",
    "for i in range(100):\n",
    "    prev = vels\n",
    "    vels = [new_velocity(point) for point in all_points]    \n",
    "    all_points = [np.asarray([velocity, point[2:4]]).reshape(-1) for (velocity, point) in zip(vels, all_points)]\n",
    "    err.append(np.linalg.norm(np.asarray(prev) - np.asarray(vels))/np.linalg.norm(np.asarray(vels)))"
   ]
  },
  {
   "cell_type": "code",
   "execution_count": 110,
   "metadata": {},
   "outputs": [
    {
     "data": {
      "image/png": "[encoded data removed]",
      "text/plain": [
       "<Figure size 432x288 with 1 Axes>"
      ]
     },
     "metadata": {
      "needs_background": "light"
     },
     "output_type": "display_data"
    }
   ],
   "source": [
    "plt.plot(err)\n",
    "plt.show()"
   ]
  }
 ],
 "metadata": {
  "anaconda-cloud": {},
  "celltoolbar": "Raw Cell Format",
  "kernelspec": {
   "display_name": "Python 3",
   "language": "python",
   "name": "python3"
  },
  "language_info": {
   "codemirror_mode": {
    "name": "ipython",
    "version": 3
   },
   "file_extension": ".py",
   "mimetype": "text/x-python",
   "name": "python",
   "nbconvert_exporter": "python",
   "pygments_lexer": "ipython3",
   "version": "3.7.0"
  }
 },
 "nbformat": 4,
 "nbformat_minor": 1
}
