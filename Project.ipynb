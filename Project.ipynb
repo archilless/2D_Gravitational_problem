{
 "cells": [
  {
   "cell_type": "code",
   "execution_count": 1,
   "metadata": {},
   "outputs": [],
   "source": [
    "import numpy as np\n",
    "import matplotlib.pyplot as plt"
   ]
  },
  {
   "cell_type": "code",
   "execution_count": 2,
   "metadata": {},
   "outputs": [
    {
     "name": "stdout",
     "output_type": "stream",
     "text": [
      "Coordinates of all points:\n",
      " [[88.44459581 50.38695868]\n",
      " [60.9351533  17.85486325]\n",
      " [38.88222804 23.78133058]\n",
      " [25.79572241  3.07743279]\n",
      " [56.11765699 44.5568347 ]\n",
      " [83.73328787  8.94461887]\n",
      " [78.21496727 11.78515066]\n",
      " [83.35879507 58.61480187]\n",
      " [48.59965432 25.55860174]\n",
      " [84.48135507 95.12038439]] \n",
      "\n",
      "Velocities of all points:\n",
      " [[0.94036655 0.46441927]\n",
      " [0.27915574 0.04522994]\n",
      " [0.94426314 0.73752488]\n",
      " [0.24389162 0.57994901]\n",
      " [0.93631547 0.31223465]\n",
      " [0.2201051  0.20065754]\n",
      " [0.29463352 0.43425015]\n",
      " [0.58529328 0.48614194]\n",
      " [0.77514799 0.63091386]\n",
      " [0.60028729 0.23082984]]\n"
     ]
    }
   ],
   "source": [
    "epsilon = 0.0001\n",
    "alpha = 2\n",
    "A = 200\n",
    "B = 10\n",
    "N = 10\n",
    "scale = 100\n",
    "h = 0.01 #step\n",
    "\n",
    "all_points = [np.asarray([np.random.rand()*scale, np.random.rand()*scale, np.random.rand(), np.random.rand()]) \\\n",
    "                                                                                  for _ in np.arange(N) ]\n",
    "\n",
    "coordinates_of_all_points = np.random.rand(N, 2)*scale\n",
    "velocities_of_all_points = np.random.rand(N, 2)\n",
    "print(\"Coordinates of all points:\\n\", coordinates_of_all_points, \\\n",
    "      \"\\n\\nVelocities of all points:\\n\", velocities_of_all_points)\n"
   ]
  },
  {
   "cell_type": "code",
   "execution_count": 3,
   "metadata": {},
   "outputs": [],
   "source": [
    "# def new_coordinates()"
   ]
  },
  {
   "cell_type": "code",
   "execution_count": 4,
   "metadata": {},
   "outputs": [],
   "source": [
    "def force_of_interaction(velocity1, point_ID1, point_ID2, delta_time):\n",
    "    old_coord_diff = coordinates_of_all_points[point_ID2]- coordinates_of_all_points[point_ID1]\n",
    "    old_velocity_diff = velocities_of_all_points[point_ID2]- velocity1\n",
    "    new_coord_diff = old_velocity_diff * delta_time + old_coord_diff\n",
    "    return new_coord_diff/np.power(np.linalg.norm(new_coord_diff), alpha)"
   ]
  },
  {
   "cell_type": "code",
   "execution_count": 5,
   "metadata": {},
   "outputs": [],
   "source": [
    "def find_acceleration(point_ID, delta_velocity, delta_time):\n",
    "    velocity = velocities_of_all_points[point_ID] + delta_velocity\n",
    "    return (   A-B*np.power(np.linalg.norm(velocity), 2)   )*velocity+\\\n",
    "            np.sum([force_of_interaction(velocity, point_ID, body_ID, delta_time) if body_ID != point_ID else [0, 0] for body_ID in np.arange(N)], axis = 0)"
   ]
  },
  {
   "cell_type": "code",
   "execution_count": 6,
   "metadata": {},
   "outputs": [],
   "source": [
    "def k_1_computation(point_ID):\n",
    "    return h*find_acceleration(point_ID, 0, 0)"
   ]
  },
  {
   "cell_type": "code",
   "execution_count": 7,
   "metadata": {},
   "outputs": [],
   "source": [
    "def k_2_computation(point_ID):\n",
    "    return h*find_acceleration(point_ID, k_1_computation(point_ID), h)"
   ]
  },
  {
   "cell_type": "code",
   "execution_count": 8,
   "metadata": {},
   "outputs": [],
   "source": [
    "def update_velocity(point_ID):\n",
    "    return velocities_of_all_points[point_ID] + (k_1_computation(point_ID) + k_2_computation(point_ID))/2"
   ]
  },
  {
   "cell_type": "code",
   "execution_count": 26,
   "metadata": {},
   "outputs": [],
   "source": [
    "velocities_of_all_points = np.asarray([update_velocity(point_ID) for point_ID in np.arange(N)])\n",
    "coordinates_of_all_points += velocities_of_all_points * h"
   ]
  },
  {
   "cell_type": "code",
   "execution_count": 25,
   "metadata": {},
   "outputs": [
    {
     "data": {
      "text/plain": [
       "(10, 2)"
      ]
     },
     "execution_count": 25,
     "metadata": {},
     "output_type": "execute_result"
    }
   ],
   "source": [
    "a = np.array([[0, 1, 2, 3],[4, 5, 6, 7]])\n",
    "np.asarray(velocities_of_all_points).shape"
   ]
  },
  {
   "cell_type": "code",
   "execution_count": 28,
   "metadata": {},
   "outputs": [
    {
     "name": "stdout",
     "output_type": "stream",
     "text": [
      "Coordinates of all points:\n",
      " [[88.41277295 50.37133659]\n",
      " [60.90942267 17.85067357]\n",
      " [38.89232435 23.78894648]\n",
      " [25.79556409  3.07705219]\n",
      " [56.10984231 44.55421406]\n",
      " [83.70686863  8.92036146]\n",
      " [78.21883085 11.79087162]\n",
      " [83.37056611 58.62457376]\n",
      " [48.5845845  25.546323  ]\n",
      " [84.48316686 95.1210786 ]] \n",
      "\n",
      "Velocities of all points:\n",
      " [[-3.18228531 -1.56220871]\n",
      " [-2.57306257 -0.41896834]\n",
      " [ 1.00963048  0.76158955]\n",
      " [-0.01583246 -0.03806013]\n",
      " [-0.78146789 -0.26206423]\n",
      " [-2.64192354 -2.42574108]\n",
      " [ 0.38635858  0.57209672]\n",
      " [ 1.17710443  0.97718908]\n",
      " [-1.50698148 -1.22787397]\n",
      " [ 0.18117842  0.06942135]]\n"
     ]
    }
   ],
   "source": [
    "print(\"Coordinates of all points:\\n\", coordinates_of_all_points, \\\n",
    "      \"\\n\\nVelocities of all points:\\n\", velocities_of_all_points)\n"
   ]
  }
 ],
 "metadata": {
  "anaconda-cloud": {},
  "celltoolbar": "Raw Cell Format",
  "kernelspec": {
   "display_name": "Python 3",
   "language": "python",
   "name": "python3"
  },
  "language_info": {
   "codemirror_mode": {
    "name": "ipython",
    "version": 3
   },
   "file_extension": ".py",
   "mimetype": "text/x-python",
   "name": "python",
   "nbconvert_exporter": "python",
   "pygments_lexer": "ipython3",
   "version": "3.7.0"
  }
 },
 "nbformat": 4,
 "nbformat_minor": 1
}
